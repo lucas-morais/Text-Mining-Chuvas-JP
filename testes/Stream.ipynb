{
 "cells": [
  {
   "cell_type": "code",
   "execution_count": 5,
   "metadata": {},
   "outputs": [],
   "source": [
    "import tweepy\n",
    "import config\n",
    "import sys"
   ]
  },
  {
   "cell_type": "code",
   "execution_count": 12,
   "metadata": {},
   "outputs": [],
   "source": [
    "auth = tweepy.OAuthHandler(consumer_key = config.Api_key, consumer_secret =config.Api_secret_key)\n",
    "auth.set_access_token(config.Access_Tokken, config.Access_Token_Secret)\n",
    "api = tweepy.API(auth, wait_on_rate_limit=True,\n",
    "          wait_on_rate_limit_notify=True)"
   ]
  },
  {
   "cell_type": "code",
   "execution_count": 13,
   "metadata": {},
   "outputs": [],
   "source": [
    "try:\n",
    "    redirect_url = auth.get_authorization_url()\n",
    "except tweepy.TweepError:\n",
    "    print('Error! Failed to get request token.')"
   ]
  },
  {
   "cell_type": "code",
   "execution_count": 28,
   "metadata": {},
   "outputs": [
    {
     "data": {
      "text/plain": [
       "'-7.11532,-34.861'"
      ]
     },
     "execution_count": 28,
     "metadata": {},
     "output_type": "execute_result"
    }
   ],
   "source": [
    "#Latitude e longitude - João Pessoa\n",
    "\n",
    "#latitude = -7.5555\n",
    "latitude = -7.11532\n",
    "longitude = -34.861\n",
    "\n",
    "#Raio em kilômetros\n",
    "raio = 18\n",
    "\n",
    "\n",
    "geocodeStr = '{},{}'.format(latitude, longitude)\n",
    "geocodeStr"
   ]
  },
  {
   "cell_type": "code",
   "execution_count": 32,
   "metadata": {},
   "outputs": [
    {
     "name": "stdout",
     "output_type": "stream",
     "text": [
      "Start streaming.\n",
      "Stopped.\n",
      "Done.\n"
     ]
    }
   ],
   "source": [
    "\n",
    "class Listener(tweepy.streaming.StreamListener):\n",
    "    def __init__(self, output_file=sys.stdout):\n",
    "        super(Listener,self).__init__()\n",
    "        self.output_file = output_file\n",
    "    def on_status(self, status):\n",
    "        print(status.text, file=self.output_file)\n",
    "    def on_error(self, status_code):\n",
    "        print(status_code)\n",
    "        return False\n",
    "\n",
    "output = open('stream_output.txt', 'w')\n",
    "listener = Listener(output_file=output)\n",
    "\n",
    "stream = tweepy.Stream(auth=api.auth, listener=listener)\n",
    "try:\n",
    "    print('Start streaming.')\n",
    "    stream.sample(languages=['pt'])\n",
    "except KeyboardInterrupt:\n",
    "    print(\"Stopped.\")\n",
    "finally:\n",
    "    print('Done.')\n",
    "    stream.disconnect()\n",
    "    output.close()"
   ]
  },
  {
   "cell_type": "code",
   "execution_count": null,
   "metadata": {},
   "outputs": [],
   "source": []
  }
 ],
 "metadata": {
  "kernelspec": {
   "display_name": "Python 3",
   "language": "python",
   "name": "python3"
  },
  "language_info": {
   "codemirror_mode": {
    "name": "ipython",
    "version": 3
   },
   "file_extension": ".py",
   "mimetype": "text/x-python",
   "name": "python",
   "nbconvert_exporter": "python",
   "pygments_lexer": "ipython3",
   "version": "3.7.6"
  }
 },
 "nbformat": 4,
 "nbformat_minor": 4
}
